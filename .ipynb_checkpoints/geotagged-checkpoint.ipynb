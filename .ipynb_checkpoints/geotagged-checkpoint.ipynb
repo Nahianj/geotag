{
 "cells": [
  {
   "cell_type": "code",
   "execution_count": null,
   "metadata": {
    "collapsed": true
   },
   "outputs": [],
   "source": [
    "# Author: Nahian Jahangir\n",
    "# Geotagging Project\n"
   ]
  },
  {
   "cell_type": "code",
   "execution_count": 29,
   "metadata": {
    "collapsed": false
   },
   "outputs": [],
   "source": [
    "import geopy.distance\n",
    "from geopy.geocoders import Nominatim\n",
    "from bwproject import BWProject\n",
    "from bwresources import BWQueries, BWMentionsResource"
   ]
  },
  {
   "cell_type": "code",
   "execution_count": 30,
   "metadata": {
    "collapsed": true
   },
   "outputs": [],
   "source": [
    "YOUR_ACCOUNT = 'analysiswork@brandwatch.com'\n",
    "YOUR_PASSWORD = 'TresBlueCarnes#1'\n",
    "YOUR_PROJECT = 'Ian'"
   ]
  },
  {
   "cell_type": "code",
   "execution_count": 31,
   "metadata": {
    "collapsed": false
   },
   "outputs": [
    {
     "name": "stdout",
     "output_type": "stream",
     "text": [
      "https://newapi.brandwatch.com/projects?access_token=c75178cb-5ded-44f7-8188-9111e5cedecb\n"
     ]
    }
   ],
   "source": [
    "project = BWProject(username=YOUR_ACCOUNT, password=YOUR_PASSWORD, project=YOUR_PROJECT)"
   ]
  },
  {
   "cell_type": "code",
   "execution_count": 32,
   "metadata": {
    "collapsed": false
   },
   "outputs": [
    {
     "name": "stdout",
     "output_type": "stream",
     "text": [
      "https://newapi.brandwatch.com/projects/1998184631/queries?access_token=c75178cb-5ded-44f7-8188-9111e5cedecb\n",
      "https://newapi.brandwatch.com/projects/1998184631/tags?access_token=c75178cb-5ded-44f7-8188-9111e5cedecb\n",
      "https://newapi.brandwatch.com/projects/1998184631/categories?access_token=c75178cb-5ded-44f7-8188-9111e5cedecb\n"
     ]
    }
   ],
   "source": [
    "queries = BWQueries(project)"
   ]
  },
  {
   "cell_type": "code",
   "execution_count": 48,
   "metadata": {
    "collapsed": false
   },
   "outputs": [
    {
     "name": "stdout",
     "output_type": "stream",
     "text": [
      "https://newapi.brandwatch.com/projects/1998184631/data/mentions/fulltext?access_token=c75178cb-5ded-44f7-8188-9111e5cedecb&pageSize=5000&endDate=2016-06-03T12%3A00%3A00&startDate=2016-06-02T17%3A00%3A00&queryId=1998637459&name=NYC+Tweets&page=0\n",
      "Page 0 of queries NYC Tweets retrieved\n",
      "https://newapi.brandwatch.com/projects/1998184631/data/mentions/fulltext?access_token=c75178cb-5ded-44f7-8188-9111e5cedecb&pageSize=5000&endDate=2016-06-03T12%3A00%3A00&startDate=2016-06-02T17%3A00%3A00&queryId=1998637459&name=NYC+Tweets&page=1\n",
      "Page 1 of queries NYC Tweets retrieved\n",
      "https://newapi.brandwatch.com/projects/1998184631/data/mentions/fulltext?access_token=c75178cb-5ded-44f7-8188-9111e5cedecb&pageSize=5000&endDate=2016-06-03T12%3A00%3A00&startDate=2016-06-02T17%3A00%3A00&queryId=1998637459&name=NYC+Tweets&page=2\n",
      "Page 2 of queries NYC Tweets retrieved\n",
      "15000 mentions downloaded\n"
     ]
    }
   ],
   "source": [
    "mentions = queries.get_mentions(name='NYC Tweets',max_pages = 3, startDate='2016-06-02T17:00:00',endDate='2016-06-03T12:00:00')"
   ]
  },
  {
   "cell_type": "code",
   "execution_count": 40,
   "metadata": {
    "collapsed": false
   },
   "outputs": [],
   "source": [
    "def tweet_coordinates(all_mentions):\n",
    "    tweets = []\n",
    "    for tweet in all_mentions:\n",
    "        if tweet['latitude'] != 0.0 and tweet['longitude'] != 0.0:\n",
    "            tweets.append(tweet)\n",
    "    return tweets\n",
    "            \n",
    "def acquire_distance(coordinate1, coordinate2):\n",
    "    return (geopy.distance.vincenty(coordinate1,coordinate2).miles)\n",
    "            \n",
    "#Helpers\n",
    "    \n",
    "def coordinateForm(lat,long):\n",
    "    return (str(lat) + \", \" + str(long))\n",
    "\n",
    "def addressToCoord(address):\n",
    "    geolocator = Nominatim()\n",
    "    location = geolocator.geocode(address)\n",
    "    return coordinateForm(location.latitude,location.longitude)\n"
   ]
  },
  {
   "cell_type": "code",
   "execution_count": 42,
   "metadata": {
    "collapsed": false
   },
   "outputs": [
    {
     "name": "stdout",
     "output_type": "stream",
     "text": [
      "40.7406296, -74.0073487574142\n"
     ]
    }
   ],
   "source": [
    "origin = addressToCoord(\"837 Washington Street NYC\")\n",
    "print (origin)\n",
    "tweets = tweet_coordinates(mentions)\n",
    "within_radius = []\n",
    "for tweet in tweets:\n",
    "    point = coordinateForm(tweet['latitude'],tweet['longitude'])\n",
    "    distance = acquire_distance(origin, point)\n",
    "    if distance <= .01:\n",
    "        within_radius.append(tweet)\n",
    "    \n"
   ]
  },
  {
   "cell_type": "code",
   "execution_count": 47,
   "metadata": {
    "collapsed": false
   },
   "outputs": [
    {
     "data": {
      "text/plain": [
       "['http://twitter.com/1/statuses/738517831877316608',\n",
       " 'http://twitter.com/1/statuses/738516829098889220',\n",
       " 'http://twitter.com/1/statuses/738515757169053696',\n",
       " 'http://twitter.com/1/statuses/738515144918106112',\n",
       " 'http://twitter.com/1/statuses/738515133283094528',\n",
       " 'http://twitter.com/1/statuses/738513427207950336',\n",
       " 'http://twitter.com/1/statuses/738512088096768005',\n",
       " 'http://twitter.com/1/statuses/738510398224224257',\n",
       " 'http://twitter.com/1/statuses/738508634586390528',\n",
       " 'http://twitter.com/1/statuses/738506660168237056',\n",
       " 'http://twitter.com/1/statuses/738506465812598788',\n",
       " 'http://twitter.com/1/statuses/738503563937259520',\n",
       " 'http://twitter.com/1/statuses/738502025021771776',\n",
       " 'http://twitter.com/1/statuses/738501232801763329',\n",
       " 'http://twitter.com/1/statuses/738500554704322560',\n",
       " 'http://twitter.com/1/statuses/738500227594735616',\n",
       " 'http://twitter.com/1/statuses/738496542680702976',\n",
       " 'http://twitter.com/1/statuses/738485928008798208',\n",
       " 'http://twitter.com/1/statuses/738482839709159424',\n",
       " 'http://twitter.com/1/statuses/738480158877835266',\n",
       " 'http://twitter.com/1/statuses/738477083681263616']"
      ]
     },
     "execution_count": 47,
     "metadata": {},
     "output_type": "execute_result"
    }
   ],
   "source": [
    "urls = []\n",
    "for tweeter in within_radius:\n",
    "    urls.append(tweeter['url'])\n",
    "urls"
   ]
  },
  {
   "cell_type": "code",
   "execution_count": null,
   "metadata": {
    "collapsed": true
   },
   "outputs": [],
   "source": []
  }
 ],
 "metadata": {
  "kernelspec": {
   "display_name": "Python 3",
   "language": "python",
   "name": "python3"
  },
  "language_info": {
   "codemirror_mode": {
    "name": "ipython",
    "version": 3
   },
   "file_extension": ".py",
   "mimetype": "text/x-python",
   "name": "python",
   "nbconvert_exporter": "python",
   "pygments_lexer": "ipython3",
   "version": "3.5.1"
  }
 },
 "nbformat": 4,
 "nbformat_minor": 0
}
